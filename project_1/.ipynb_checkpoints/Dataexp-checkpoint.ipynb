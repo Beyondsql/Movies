{
 "cells": [
  {
   "cell_type": "code",
   "execution_count": 1,
   "metadata": {
    "collapsed": true
   },
   "outputs": [],
   "source": [
    "import os\n",
    "import json\n"
   ]
  },
  {
   "cell_type": "code",
   "execution_count": 5,
   "metadata": {
    "collapsed": false
   },
   "outputs": [],
   "source": [
    "DATA_DIR = os.path.join('data', 'boxofficemojo')\n",
    "files=os.listdir(DATA_DIR)"
   ]
  },
  {
   "cell_type": "code",
   "execution_count": 6,
   "metadata": {
    "collapsed": false
   },
   "outputs": [],
   "source": [
    "movies = []\n",
    "for file in files :\n",
    "    file_path= os.path.join(DATA_DIR,file)\n",
    "    with open(file_path,'r') as target_files:\n",
    "        movie = json.load(target_files)\n",
    "        #print movie\n",
    "    movies.append(movie)"
   ]
  },
  {
   "cell_type": "code",
   "execution_count": 7,
   "metadata": {
    "collapsed": false
   },
   "outputs": [
    {
     "ename": "AttributeError",
     "evalue": "'list' object has no attribute 'head'",
     "output_type": "error",
     "traceback": [
      "\u001b[1;31m---------------------------------------------------------------------------\u001b[0m",
      "\u001b[1;31mAttributeError\u001b[0m                            Traceback (most recent call last)",
      "\u001b[1;32m<ipython-input-7-7e2857e6f757>\u001b[0m in \u001b[0;36m<module>\u001b[1;34m()\u001b[0m\n\u001b[1;32m----> 1\u001b[1;33m \u001b[0mmovies\u001b[0m\u001b[1;33m.\u001b[0m\u001b[0mhead\u001b[0m\u001b[1;33m(\u001b[0m\u001b[1;33m)\u001b[0m\u001b[1;33m\u001b[0m\u001b[0m\n\u001b[0m",
      "\u001b[1;31mAttributeError\u001b[0m: 'list' object has no attribute 'head'"
     ]
    }
   ],
   "source": [
    "movies.head()"
   ]
  },
  {
   "cell_type": "code",
   "execution_count": 8,
   "metadata": {
    "collapsed": false
   },
   "outputs": [
    {
     "name": "stdout",
     "output_type": "stream",
     "text": [
      "3728\n"
     ]
    }
   ],
   "source": [
    "print len(movies)"
   ]
  },
  {
   "cell_type": "code",
   "execution_count": 9,
   "metadata": {
    "collapsed": true
   },
   "outputs": [],
   "source": [
    "import pandas as pd\n",
    "movies_df = pd.DataFrame(movies)"
   ]
  },
  {
   "cell_type": "code",
   "execution_count": 10,
   "metadata": {
    "collapsed": false
   },
   "outputs": [
    {
     "data": {
      "text/html": [
       "<div>\n",
       "<table border=\"1\" class=\"dataframe\">\n",
       "  <thead>\n",
       "    <tr style=\"text-align: right;\">\n",
       "      <th></th>\n",
       "      <th>alt_title</th>\n",
       "      <th>director</th>\n",
       "      <th>domestic_gross</th>\n",
       "      <th>mojo_slug</th>\n",
       "      <th>opening_per_theater</th>\n",
       "      <th>opening_weekend_take</th>\n",
       "      <th>production_budget</th>\n",
       "      <th>release_date_limited</th>\n",
       "      <th>release_date_wide</th>\n",
       "      <th>title</th>\n",
       "      <th>widest_release</th>\n",
       "      <th>worldwide_gross</th>\n",
       "      <th>year</th>\n",
       "    </tr>\n",
       "  </thead>\n",
       "  <tbody>\n",
       "    <tr>\n",
       "      <th>0</th>\n",
       "      <td>10,000 B.C. (2008)</td>\n",
       "      <td>Roland Emmerich</td>\n",
       "      <td>94784201.0</td>\n",
       "      <td>10000bc</td>\n",
       "      <td>10518.0</td>\n",
       "      <td>35867488.0</td>\n",
       "      <td>105000000.0</td>\n",
       "      <td>None</td>\n",
       "      <td>2008-03-07</td>\n",
       "      <td>10,000 B.C.</td>\n",
       "      <td>3454.0</td>\n",
       "      <td>269784201.0</td>\n",
       "      <td>2008.0</td>\n",
       "    </tr>\n",
       "    <tr>\n",
       "      <th>1</th>\n",
       "      <td>102 Dalmatians (2000)</td>\n",
       "      <td>None</td>\n",
       "      <td>66957026.0</td>\n",
       "      <td>102dalmatians</td>\n",
       "      <td>7353.0</td>\n",
       "      <td>19883351.0</td>\n",
       "      <td>85000000.0</td>\n",
       "      <td>None</td>\n",
       "      <td>2000-11-22</td>\n",
       "      <td>102 Dalmatians</td>\n",
       "      <td>2704.0</td>\n",
       "      <td>183611771.0</td>\n",
       "      <td>2000.0</td>\n",
       "    </tr>\n",
       "    <tr>\n",
       "      <th>2</th>\n",
       "      <td>10 Things I Hate About You (1999)</td>\n",
       "      <td>None</td>\n",
       "      <td>38178166.0</td>\n",
       "      <td>10thingsihateaboutyou</td>\n",
       "      <td>3668.0</td>\n",
       "      <td>8330681.0</td>\n",
       "      <td>30000000.0</td>\n",
       "      <td>None</td>\n",
       "      <td>1999-03-31</td>\n",
       "      <td>10 Things I Hate About You</td>\n",
       "      <td>2311.0</td>\n",
       "      <td>53478166.0</td>\n",
       "      <td>1999.0</td>\n",
       "    </tr>\n",
       "    <tr>\n",
       "      <th>3</th>\n",
       "      <td>10 Years (2012)</td>\n",
       "      <td>Jamie Linden</td>\n",
       "      <td>203373.0</td>\n",
       "      <td>10years</td>\n",
       "      <td>7569.0</td>\n",
       "      <td>22707.0</td>\n",
       "      <td>NaN</td>\n",
       "      <td>None</td>\n",
       "      <td>2012-09-14</td>\n",
       "      <td>10 Years</td>\n",
       "      <td>63.0</td>\n",
       "      <td>203373.0</td>\n",
       "      <td>2012.0</td>\n",
       "    </tr>\n",
       "    <tr>\n",
       "      <th>4</th>\n",
       "      <td>11 Flowers (2013)</td>\n",
       "      <td>None</td>\n",
       "      <td>9213.0</td>\n",
       "      <td>11flowers</td>\n",
       "      <td>1758.0</td>\n",
       "      <td>3516.0</td>\n",
       "      <td>NaN</td>\n",
       "      <td>None</td>\n",
       "      <td>2013-02-22</td>\n",
       "      <td>11 Flowers</td>\n",
       "      <td>2.0</td>\n",
       "      <td>NaN</td>\n",
       "      <td>2013.0</td>\n",
       "    </tr>\n",
       "  </tbody>\n",
       "</table>\n",
       "</div>"
      ],
      "text/plain": [
       "                           alt_title         director  domestic_gross  \\\n",
       "0                 10,000 B.C. (2008)  Roland Emmerich      94784201.0   \n",
       "1              102 Dalmatians (2000)             None      66957026.0   \n",
       "2  10 Things I Hate About You (1999)             None      38178166.0   \n",
       "3                    10 Years (2012)     Jamie Linden        203373.0   \n",
       "4                  11 Flowers (2013)             None          9213.0   \n",
       "\n",
       "               mojo_slug  opening_per_theater  opening_weekend_take  \\\n",
       "0                10000bc              10518.0            35867488.0   \n",
       "1          102dalmatians               7353.0            19883351.0   \n",
       "2  10thingsihateaboutyou               3668.0             8330681.0   \n",
       "3                10years               7569.0               22707.0   \n",
       "4              11flowers               1758.0                3516.0   \n",
       "\n",
       "   production_budget release_date_limited release_date_wide  \\\n",
       "0        105000000.0                 None        2008-03-07   \n",
       "1         85000000.0                 None        2000-11-22   \n",
       "2         30000000.0                 None        1999-03-31   \n",
       "3                NaN                 None        2012-09-14   \n",
       "4                NaN                 None        2013-02-22   \n",
       "\n",
       "                        title  widest_release  worldwide_gross    year  \n",
       "0                 10,000 B.C.          3454.0      269784201.0  2008.0  \n",
       "1             102 Dalmatians           2704.0      183611771.0  2000.0  \n",
       "2  10 Things I Hate About You          2311.0       53478166.0  1999.0  \n",
       "3                    10 Years            63.0         203373.0  2012.0  \n",
       "4                 11 Flowers              2.0              NaN  2013.0  "
      ]
     },
     "execution_count": 10,
     "metadata": {},
     "output_type": "execute_result"
    }
   ],
   "source": [
    "movies_df.head()\n"
   ]
  },
  {
   "cell_type": "code",
   "execution_count": 11,
   "metadata": {
    "collapsed": false
   },
   "outputs": [
    {
     "data": {
      "text/plain": [
       "<matplotlib.axes._subplots.AxesSubplot at 0xb2e8860>"
      ]
     },
     "execution_count": 11,
     "metadata": {},
     "output_type": "execute_result"
    }
   ],
   "source": [
    "movies_df['year'].hist()\n"
   ]
  },
  {
   "cell_type": "code",
   "execution_count": 12,
   "metadata": {
    "collapsed": false
   },
   "outputs": [
    {
     "data": {
      "text/plain": [
       "<matplotlib.axes._subplots.AxesSubplot at 0xb50ef98>"
      ]
     },
     "execution_count": 12,
     "metadata": {},
     "output_type": "execute_result"
    }
   ],
   "source": [
    "movies_df.plot.hist('year')"
   ]
  },
  {
   "cell_type": "code",
   "execution_count": 15,
   "metadata": {
    "collapsed": false
   },
   "outputs": [],
   "source": [
    "DATA_DIR2 = os.path.join('data', 'metacritic')\n",
    "cric_files=os.listdir(DATA_DIR2)\n"
   ]
  },
  {
   "cell_type": "code",
   "execution_count": 16,
   "metadata": {
    "collapsed": false
   },
   "outputs": [
    {
     "data": {
      "text/plain": [
       "['10-things-i-hate-about-you_parsed.json',\n",
       " '10-years_parsed.json',\n",
       " '10000-bc_parsed.json',\n",
       " '101-dalmatians_parsed.json',\n",
       " '102-dalmatians_parsed.json',\n",
       " '11-11-11_parsed.json',\n",
       " '11-flowers_parsed.json',\n",
       " '1114_parsed.json',\n",
       " '12-rounds_parsed.json',\n",
       " '12-years-a-slave_parsed.json']"
      ]
     },
     "execution_count": 16,
     "metadata": {},
     "output_type": "execute_result"
    }
   ],
   "source": [
    "cric_files[:10]"
   ]
  },
  {
   "cell_type": "code",
   "execution_count": 17,
   "metadata": {
    "collapsed": true
   },
   "outputs": [],
   "source": [
    "crics = []\n",
    "for file in cric_files :\n",
    "    file_path= os.path.join(DATA_DIR2,file)\n",
    "    with open(file_path,'r') as target_files:\n",
    "        cric = json.load(target_files)\n",
    "        #print movie\n",
    "    crics.append(cric)\n"
   ]
  },
  {
   "cell_type": "code",
   "execution_count": 18,
   "metadata": {
    "collapsed": false
   },
   "outputs": [
    {
     "name": "stdout",
     "output_type": "stream",
     "text": [
      "4767\n"
     ]
    }
   ],
   "source": [
    "print len(crics)"
   ]
  },
  {
   "cell_type": "code",
   "execution_count": 19,
   "metadata": {
    "collapsed": false
   },
   "outputs": [
    {
     "data": {
      "text/plain": [
       "[{u'complete': True,\n",
       "  u'director': u'Gil Junger',\n",
       "  u'genre': [u'Comedy', u'Romance'],\n",
       "  u'metacritic_page': u'/movie/10-things-i-hate-about-you',\n",
       "  u'metascore': 70,\n",
       "  u'num_critic_reviews': [18, 7, 1, 26],\n",
       "  u'num_user_ratings': 175,\n",
       "  u'num_user_reviews': [27, 1, 1, 29],\n",
       "  u'rating': u'PG-13',\n",
       "  u'release_date': u'1999-03-31',\n",
       "  u'runtime_minutes': 97,\n",
       "  u'studio': u'Buena Vista Pictures',\n",
       "  u'title': u'10 Things I Hate About You',\n",
       "  u'user_score': 7.0,\n",
       "  u'year': 1999},\n",
       " {u'complete': True,\n",
       "  u'director': u'Jamie Linden',\n",
       "  u'genre': [u'Drama', u'Comedy', u'Romance'],\n",
       "  u'metacritic_page': u'/movie/10-years',\n",
       "  u'metascore': 61,\n",
       "  u'num_critic_reviews': [7, 11, 0, 18],\n",
       "  u'num_user_ratings': 12,\n",
       "  u'num_user_reviews': [3, 2, 1, 6],\n",
       "  u'rating': u'R',\n",
       "  u'release_date': u'2012-09-14',\n",
       "  u'runtime_minutes': 100,\n",
       "  u'studio': u'Anchor Bay Entertainment',\n",
       "  u'title': u'10 Years',\n",
       "  u'user_score': 6.6,\n",
       "  u'year': 2012},\n",
       " {u'complete': True,\n",
       "  u'director': u'Roland Emmerich',\n",
       "  u'genre': [u'Adventure', u'Drama', u'Fantasy'],\n",
       "  u'metacritic_page': u'/movie/10000-bc',\n",
       "  u'metascore': 34,\n",
       "  u'num_critic_reviews': [4, 8, 17, 29],\n",
       "  u'num_user_ratings': 273,\n",
       "  u'num_user_reviews': [50, 18, 60, 128],\n",
       "  u'rating': u'PG-13',\n",
       "  u'release_date': u'2008-03-07',\n",
       "  u'runtime_minutes': 109,\n",
       "  u'studio': u'Warner Bros. Pictures',\n",
       "  u'title': u'10,000 BC',\n",
       "  u'user_score': 4.6,\n",
       "  u'year': 2008},\n",
       " {u'complete': True,\n",
       "  u'director': u'Stephen Herek',\n",
       "  u'genre': [u'Adventure', u'Comedy', u'Family'],\n",
       "  u'metacritic_page': u'/movie/101-dalmatians',\n",
       "  u'metascore': 49,\n",
       "  u'num_critic_reviews': [8, 9, 3, 20],\n",
       "  u'num_user_ratings': 78,\n",
       "  u'num_user_reviews': [5, 5, 0, 10],\n",
       "  u'rating': u'G',\n",
       "  u'release_date': u'1996-11-27',\n",
       "  u'runtime_minutes': 103,\n",
       "  u'studio': u'Buena Vista Pictures',\n",
       "  u'title': u'101 Dalmatians',\n",
       "  u'user_score': 5.9,\n",
       "  u'year': 1996},\n",
       " {u'complete': True,\n",
       "  u'director': u'Kevin Lima',\n",
       "  u'genre': [u'Comedy', u'Family'],\n",
       "  u'metacritic_page': u'/movie/102-dalmatians',\n",
       "  u'metascore': 35,\n",
       "  u'num_critic_reviews': [7, 5, 12, 24],\n",
       "  u'num_user_ratings': 47,\n",
       "  u'num_user_reviews': [7, 3, 3, 13],\n",
       "  u'rating': u'G',\n",
       "  u'release_date': u'2000-11-22',\n",
       "  u'runtime_minutes': 100,\n",
       "  u'studio': u'Buena Vista Pictures',\n",
       "  u'title': u'102 Dalmatians',\n",
       "  u'user_score': 5.3,\n",
       "  u'year': 2000},\n",
       " {u'complete': True,\n",
       "  u'director': u'Darren Lynn Bousman',\n",
       "  u'genre': [u'Thriller', u'Horror'],\n",
       "  u'metacritic_page': u'/movie/11-11-11',\n",
       "  u'metascore': 26,\n",
       "  u'num_critic_reviews': [0, 2, 3, 5],\n",
       "  u'num_user_ratings': 18,\n",
       "  u'num_user_reviews': [2, 2, 5, 9],\n",
       "  u'rating': u'Not Rated',\n",
       "  u'release_date': u'2011-11-11',\n",
       "  u'runtime_minutes': 90,\n",
       "  u'studio': u'Rocket Releasing',\n",
       "  u'title': u'11-11-11',\n",
       "  u'user_score': 4.3,\n",
       "  u'year': 2011},\n",
       " {u'complete': False,\n",
       "  u'director': u'Xiaoshuai Wang',\n",
       "  u'genre': [u'Drama'],\n",
       "  u'metacritic_page': u'/movie/11-flowers',\n",
       "  u'metascore': 71,\n",
       "  u'num_critic_reviews': [4, 3, 0, 7],\n",
       "  u'num_user_ratings': None,\n",
       "  u'num_user_reviews': [1, 0, 0, 1],\n",
       "  u'rating': u'Not Rated',\n",
       "  u'release_date': u'2013-02-22',\n",
       "  u'runtime_minutes': 110,\n",
       "  u'studio': u'First Run Features',\n",
       "  u'title': u'11 Flowers',\n",
       "  u'user_score': u'tbd',\n",
       "  u'year': 2013},\n",
       " {u'complete': True,\n",
       "  u'director': u'Greg Marcks',\n",
       "  u'genre': [u'Thriller', u'Comedy', u'Crime'],\n",
       "  u'metacritic_page': u'/movie/1114',\n",
       "  u'metascore': 65,\n",
       "  u'num_critic_reviews': [3, 1, 0, 4],\n",
       "  u'num_user_ratings': 31,\n",
       "  u'num_user_reviews': [11, 0, 1, 12],\n",
       "  u'rating': u'TV-MA',\n",
       "  u'release_date': u'2005-08-12',\n",
       "  u'runtime_minutes': 86,\n",
       "  u'studio': u'New Line Cinema',\n",
       "  u'title': u'11:14',\n",
       "  u'user_score': 7.2,\n",
       "  u'year': 2005},\n",
       " {u'complete': True,\n",
       "  u'director': u'Renny Harlin',\n",
       "  u'genre': [u'Action', u'Thriller', u'Crime'],\n",
       "  u'metacritic_page': u'/movie/12-rounds',\n",
       "  u'metascore': 38,\n",
       "  u'num_critic_reviews': [1, 5, 7, 13],\n",
       "  u'num_user_ratings': 66,\n",
       "  u'num_user_reviews': [3, 5, 12, 20],\n",
       "  u'rating': u'PG-13',\n",
       "  u'release_date': u'2009-03-27',\n",
       "  u'runtime_minutes': 108,\n",
       "  u'studio': u'Fox Atomic',\n",
       "  u'title': u'12 Rounds',\n",
       "  u'user_score': 5.0,\n",
       "  u'year': 2009},\n",
       " {u'complete': True,\n",
       "  u'director': u'Steve McQueen',\n",
       "  u'genre': [u'Biography', u'Drama', u'History'],\n",
       "  u'metacritic_page': u'/movie/12-years-a-slave',\n",
       "  u'metascore': 97,\n",
       "  u'num_critic_reviews': [47, 1, 0, 48],\n",
       "  u'num_user_ratings': 871,\n",
       "  u'num_user_reviews': [156, 11, 25, 192],\n",
       "  u'rating': u'R',\n",
       "  u'release_date': u'2013-10-18',\n",
       "  u'runtime_minutes': 134,\n",
       "  u'studio': u'Fox Searchlight Pictures',\n",
       "  u'title': u'12 Years a Slave',\n",
       "  u'user_score': 8.0,\n",
       "  u'year': 2013}]"
      ]
     },
     "execution_count": 19,
     "metadata": {},
     "output_type": "execute_result"
    }
   ],
   "source": [
    "crics[:10]\n"
   ]
  },
  {
   "cell_type": "code",
   "execution_count": 20,
   "metadata": {
    "collapsed": false
   },
   "outputs": [
    {
     "ename": "AttributeError",
     "evalue": "'list' object has no attribute 'keys'",
     "output_type": "error",
     "traceback": [
      "\u001b[1;31m---------------------------------------------------------------------------\u001b[0m",
      "\u001b[1;31mAttributeError\u001b[0m                            Traceback (most recent call last)",
      "\u001b[1;32m<ipython-input-20-11b6977accbc>\u001b[0m in \u001b[0;36m<module>\u001b[1;34m()\u001b[0m\n\u001b[0;32m      1\u001b[0m \u001b[1;33m\u001b[0m\u001b[0m\n\u001b[1;32m----> 2\u001b[1;33m \u001b[0mcrics_df\u001b[0m \u001b[1;33m=\u001b[0m \u001b[0mpd\u001b[0m\u001b[1;33m.\u001b[0m\u001b[0mDataFrame\u001b[0m\u001b[1;33m(\u001b[0m\u001b[0mcrics\u001b[0m\u001b[1;33m)\u001b[0m\u001b[1;33m\u001b[0m\u001b[0m\n\u001b[0m",
      "\u001b[1;32mC:\\Users\\abd487\\AppData\\Local\\Continuum\\Anaconda2\\lib\\site-packages\\pandas\\core\\frame.pyc\u001b[0m in \u001b[0;36m__init__\u001b[1;34m(self, data, index, columns, dtype, copy)\u001b[0m\n\u001b[0;32m    260\u001b[0m                     \u001b[1;32mif\u001b[0m \u001b[0mcom\u001b[0m\u001b[1;33m.\u001b[0m\u001b[0mis_named_tuple\u001b[0m\u001b[1;33m(\u001b[0m\u001b[0mdata\u001b[0m\u001b[1;33m[\u001b[0m\u001b[1;36m0\u001b[0m\u001b[1;33m]\u001b[0m\u001b[1;33m)\u001b[0m \u001b[1;32mand\u001b[0m \u001b[0mcolumns\u001b[0m \u001b[1;32mis\u001b[0m \u001b[0mNone\u001b[0m\u001b[1;33m:\u001b[0m\u001b[1;33m\u001b[0m\u001b[0m\n\u001b[0;32m    261\u001b[0m                         \u001b[0mcolumns\u001b[0m \u001b[1;33m=\u001b[0m \u001b[0mdata\u001b[0m\u001b[1;33m[\u001b[0m\u001b[1;36m0\u001b[0m\u001b[1;33m]\u001b[0m\u001b[1;33m.\u001b[0m\u001b[0m_fields\u001b[0m\u001b[1;33m\u001b[0m\u001b[0m\n\u001b[1;32m--> 262\u001b[1;33m                     \u001b[0marrays\u001b[0m\u001b[1;33m,\u001b[0m \u001b[0mcolumns\u001b[0m \u001b[1;33m=\u001b[0m \u001b[0m_to_arrays\u001b[0m\u001b[1;33m(\u001b[0m\u001b[0mdata\u001b[0m\u001b[1;33m,\u001b[0m \u001b[0mcolumns\u001b[0m\u001b[1;33m,\u001b[0m \u001b[0mdtype\u001b[0m\u001b[1;33m=\u001b[0m\u001b[0mdtype\u001b[0m\u001b[1;33m)\u001b[0m\u001b[1;33m\u001b[0m\u001b[0m\n\u001b[0m\u001b[0;32m    263\u001b[0m                     \u001b[0mcolumns\u001b[0m \u001b[1;33m=\u001b[0m \u001b[0m_ensure_index\u001b[0m\u001b[1;33m(\u001b[0m\u001b[0mcolumns\u001b[0m\u001b[1;33m)\u001b[0m\u001b[1;33m\u001b[0m\u001b[0m\n\u001b[0;32m    264\u001b[0m \u001b[1;33m\u001b[0m\u001b[0m\n",
      "\u001b[1;32mC:\\Users\\abd487\\AppData\\Local\\Continuum\\Anaconda2\\lib\\site-packages\\pandas\\core\\frame.pyc\u001b[0m in \u001b[0;36m_to_arrays\u001b[1;34m(data, columns, coerce_float, dtype)\u001b[0m\n\u001b[0;32m   5362\u001b[0m     \u001b[1;32melif\u001b[0m \u001b[0misinstance\u001b[0m\u001b[1;33m(\u001b[0m\u001b[0mdata\u001b[0m\u001b[1;33m[\u001b[0m\u001b[1;36m0\u001b[0m\u001b[1;33m]\u001b[0m\u001b[1;33m,\u001b[0m \u001b[0mcollections\u001b[0m\u001b[1;33m.\u001b[0m\u001b[0mMapping\u001b[0m\u001b[1;33m)\u001b[0m\u001b[1;33m:\u001b[0m\u001b[1;33m\u001b[0m\u001b[0m\n\u001b[0;32m   5363\u001b[0m         return _list_of_dict_to_arrays(data, columns,\n\u001b[1;32m-> 5364\u001b[1;33m                                        coerce_float=coerce_float, dtype=dtype)\n\u001b[0m\u001b[0;32m   5365\u001b[0m     \u001b[1;32melif\u001b[0m \u001b[0misinstance\u001b[0m\u001b[1;33m(\u001b[0m\u001b[0mdata\u001b[0m\u001b[1;33m[\u001b[0m\u001b[1;36m0\u001b[0m\u001b[1;33m]\u001b[0m\u001b[1;33m,\u001b[0m \u001b[0mSeries\u001b[0m\u001b[1;33m)\u001b[0m\u001b[1;33m:\u001b[0m\u001b[1;33m\u001b[0m\u001b[0m\n\u001b[0;32m   5366\u001b[0m         return _list_of_series_to_arrays(data, columns,\n",
      "\u001b[1;32mC:\\Users\\abd487\\AppData\\Local\\Continuum\\Anaconda2\\lib\\site-packages\\pandas\\core\\frame.pyc\u001b[0m in \u001b[0;36m_list_of_dict_to_arrays\u001b[1;34m(data, columns, coerce_float, dtype)\u001b[0m\n\u001b[0;32m   5478\u001b[0m     \u001b[1;32mif\u001b[0m \u001b[0mcolumns\u001b[0m \u001b[1;32mis\u001b[0m \u001b[0mNone\u001b[0m\u001b[1;33m:\u001b[0m\u001b[1;33m\u001b[0m\u001b[0m\n\u001b[0;32m   5479\u001b[0m         \u001b[0mgen\u001b[0m \u001b[1;33m=\u001b[0m \u001b[1;33m(\u001b[0m\u001b[0mlist\u001b[0m\u001b[1;33m(\u001b[0m\u001b[0mx\u001b[0m\u001b[1;33m.\u001b[0m\u001b[0mkeys\u001b[0m\u001b[1;33m(\u001b[0m\u001b[1;33m)\u001b[0m\u001b[1;33m)\u001b[0m \u001b[1;32mfor\u001b[0m \u001b[0mx\u001b[0m \u001b[1;32min\u001b[0m \u001b[0mdata\u001b[0m\u001b[1;33m)\u001b[0m\u001b[1;33m\u001b[0m\u001b[0m\n\u001b[1;32m-> 5480\u001b[1;33m         \u001b[0mcolumns\u001b[0m \u001b[1;33m=\u001b[0m \u001b[0mlib\u001b[0m\u001b[1;33m.\u001b[0m\u001b[0mfast_unique_multiple_list_gen\u001b[0m\u001b[1;33m(\u001b[0m\u001b[0mgen\u001b[0m\u001b[1;33m)\u001b[0m\u001b[1;33m\u001b[0m\u001b[0m\n\u001b[0m\u001b[0;32m   5481\u001b[0m \u001b[1;33m\u001b[0m\u001b[0m\n\u001b[0;32m   5482\u001b[0m     \u001b[1;31m# assure that they are of the base dict class and not of derived\u001b[0m\u001b[1;33m\u001b[0m\u001b[1;33m\u001b[0m\u001b[0m\n",
      "\u001b[1;32mpandas\\lib.pyx\u001b[0m in \u001b[0;36mpandas.lib.fast_unique_multiple_list_gen (pandas\\lib.c:10100)\u001b[1;34m()\u001b[0m\n",
      "\u001b[1;32mC:\\Users\\abd487\\AppData\\Local\\Continuum\\Anaconda2\\lib\\site-packages\\pandas\\core\\frame.pyc\u001b[0m in \u001b[0;36m<genexpr>\u001b[1;34m((x,))\u001b[0m\n\u001b[0;32m   5477\u001b[0m \u001b[1;32mdef\u001b[0m \u001b[0m_list_of_dict_to_arrays\u001b[0m\u001b[1;33m(\u001b[0m\u001b[0mdata\u001b[0m\u001b[1;33m,\u001b[0m \u001b[0mcolumns\u001b[0m\u001b[1;33m,\u001b[0m \u001b[0mcoerce_float\u001b[0m\u001b[1;33m=\u001b[0m\u001b[0mFalse\u001b[0m\u001b[1;33m,\u001b[0m \u001b[0mdtype\u001b[0m\u001b[1;33m=\u001b[0m\u001b[0mNone\u001b[0m\u001b[1;33m)\u001b[0m\u001b[1;33m:\u001b[0m\u001b[1;33m\u001b[0m\u001b[0m\n\u001b[0;32m   5478\u001b[0m     \u001b[1;32mif\u001b[0m \u001b[0mcolumns\u001b[0m \u001b[1;32mis\u001b[0m \u001b[0mNone\u001b[0m\u001b[1;33m:\u001b[0m\u001b[1;33m\u001b[0m\u001b[0m\n\u001b[1;32m-> 5479\u001b[1;33m         \u001b[0mgen\u001b[0m \u001b[1;33m=\u001b[0m \u001b[1;33m(\u001b[0m\u001b[0mlist\u001b[0m\u001b[1;33m(\u001b[0m\u001b[0mx\u001b[0m\u001b[1;33m.\u001b[0m\u001b[0mkeys\u001b[0m\u001b[1;33m(\u001b[0m\u001b[1;33m)\u001b[0m\u001b[1;33m)\u001b[0m \u001b[1;32mfor\u001b[0m \u001b[0mx\u001b[0m \u001b[1;32min\u001b[0m \u001b[0mdata\u001b[0m\u001b[1;33m)\u001b[0m\u001b[1;33m\u001b[0m\u001b[0m\n\u001b[0m\u001b[0;32m   5480\u001b[0m         \u001b[0mcolumns\u001b[0m \u001b[1;33m=\u001b[0m \u001b[0mlib\u001b[0m\u001b[1;33m.\u001b[0m\u001b[0mfast_unique_multiple_list_gen\u001b[0m\u001b[1;33m(\u001b[0m\u001b[0mgen\u001b[0m\u001b[1;33m)\u001b[0m\u001b[1;33m\u001b[0m\u001b[0m\n\u001b[0;32m   5481\u001b[0m \u001b[1;33m\u001b[0m\u001b[0m\n",
      "\u001b[1;31mAttributeError\u001b[0m: 'list' object has no attribute 'keys'"
     ]
    }
   ],
   "source": [
    "    \n",
    "crics_df = pd.DataFrame(crics)"
   ]
  },
  {
   "cell_type": "code",
   "execution_count": 21,
   "metadata": {
    "collapsed": false
   },
   "outputs": [
    {
     "data": {
      "text/plain": [
       "[{u'alt_title': u'10,000 B.C. (2008)',\n",
       "  u'director': u'Roland Emmerich',\n",
       "  u'domestic_gross': 94784201,\n",
       "  u'mojo_slug': u'10000bc',\n",
       "  u'opening_per_theater': 10518,\n",
       "  u'opening_weekend_take': 35867488,\n",
       "  u'production_budget': 105000000,\n",
       "  u'release_date_limited': None,\n",
       "  u'release_date_wide': u'2008-03-07',\n",
       "  u'title': u'10,000 B.C.',\n",
       "  u'widest_release': 3454,\n",
       "  u'worldwide_gross': 269784201,\n",
       "  u'year': 2008},\n",
       " {u'alt_title': u'102 Dalmatians (2000)',\n",
       "  u'director': None,\n",
       "  u'domestic_gross': 66957026,\n",
       "  u'mojo_slug': u'102dalmatians',\n",
       "  u'opening_per_theater': 7353,\n",
       "  u'opening_weekend_take': 19883351,\n",
       "  u'production_budget': 85000000,\n",
       "  u'release_date_limited': None,\n",
       "  u'release_date_wide': u'2000-11-22',\n",
       "  u'title': u'102 Dalmatians ',\n",
       "  u'widest_release': 2704,\n",
       "  u'worldwide_gross': 183611771,\n",
       "  u'year': 2000},\n",
       " {u'alt_title': u'10 Things I Hate About You (1999)',\n",
       "  u'director': None,\n",
       "  u'domestic_gross': 38178166,\n",
       "  u'mojo_slug': u'10thingsihateaboutyou',\n",
       "  u'opening_per_theater': 3668,\n",
       "  u'opening_weekend_take': 8330681,\n",
       "  u'production_budget': 30000000,\n",
       "  u'release_date_limited': None,\n",
       "  u'release_date_wide': u'1999-03-31',\n",
       "  u'title': u'10 Things I Hate About You',\n",
       "  u'widest_release': 2311,\n",
       "  u'worldwide_gross': 53478166,\n",
       "  u'year': 1999},\n",
       " {u'alt_title': u'10 Years (2012)',\n",
       "  u'director': u'Jamie Linden',\n",
       "  u'domestic_gross': 203373,\n",
       "  u'mojo_slug': u'10years',\n",
       "  u'opening_per_theater': 7569,\n",
       "  u'opening_weekend_take': 22707,\n",
       "  u'production_budget': None,\n",
       "  u'release_date_limited': None,\n",
       "  u'release_date_wide': u'2012-09-14',\n",
       "  u'title': u'10 Years',\n",
       "  u'widest_release': 63,\n",
       "  u'worldwide_gross': 203373,\n",
       "  u'year': 2012},\n",
       " {u'alt_title': u'11 Flowers (2013)',\n",
       "  u'director': None,\n",
       "  u'domestic_gross': 9213,\n",
       "  u'mojo_slug': u'11flowers',\n",
       "  u'opening_per_theater': 1758,\n",
       "  u'opening_weekend_take': 3516,\n",
       "  u'production_budget': None,\n",
       "  u'release_date_limited': None,\n",
       "  u'release_date_wide': u'2013-02-22',\n",
       "  u'title': u'11 Flowers ',\n",
       "  u'widest_release': 2,\n",
       "  u'worldwide_gross': None,\n",
       "  u'year': 2013},\n",
       " {u'alt_title': u'The 11th Hour (2007)',\n",
       "  u'director': None,\n",
       "  u'domestic_gross': 707343,\n",
       "  u'mojo_slug': u'11thhour',\n",
       "  u'opening_per_theater': 15213,\n",
       "  u'opening_weekend_take': 60853,\n",
       "  u'production_budget': None,\n",
       "  u'release_date_limited': None,\n",
       "  u'release_date_wide': u'2007-08-17',\n",
       "  u'title': u'The 11th Hour',\n",
       "  u'widest_release': 111,\n",
       "  u'worldwide_gross': 985207,\n",
       "  u'year': 2007},\n",
       " {u'alt_title': u'127 Hours (2010)',\n",
       "  u'director': u'Danny Boyle',\n",
       "  u'domestic_gross': 18335230,\n",
       "  u'mojo_slug': u'127hours',\n",
       "  u'opening_per_theater': 2333,\n",
       "  u'opening_weekend_take': 2136801,\n",
       "  u'production_budget': 18000000,\n",
       "  u'release_date_limited': u'2010-11-05',\n",
       "  u'release_date_wide': u'2011-01-28',\n",
       "  u'title': u'127 Hours',\n",
       "  u'widest_release': 916,\n",
       "  u'worldwide_gross': 60738797,\n",
       "  u'year': 2010},\n",
       " {u'alt_title': u'12 Rounds (2009)',\n",
       "  u'director': u'Renny Harlin',\n",
       "  u'domestic_gross': 12234694,\n",
       "  u'mojo_slug': u'12rounds',\n",
       "  u'opening_per_theater': 2286,\n",
       "  u'opening_weekend_take': 5329240,\n",
       "  u'production_budget': None,\n",
       "  u'release_date_limited': None,\n",
       "  u'release_date_wide': u'2009-03-27',\n",
       "  u'title': u'12 Rounds',\n",
       "  u'widest_release': 2331,\n",
       "  u'worldwide_gross': 17280326,\n",
       "  u'year': 2009},\n",
       " {u'alt_title': u'13 Assassins (2011)',\n",
       "  u'director': None,\n",
       "  u'domestic_gross': 802778,\n",
       "  u'mojo_slug': u'13assassins',\n",
       "  u'opening_per_theater': 11464,\n",
       "  u'opening_weekend_take': 45854,\n",
       "  u'production_budget': None,\n",
       "  u'release_date_limited': None,\n",
       "  u'release_date_wide': u'2011-04-29',\n",
       "  u'title': u'13 Assassins ',\n",
       "  u'widest_release': 31,\n",
       "  u'worldwide_gross': 17555141,\n",
       "  u'year': 2011},\n",
       " {u'alt_title': u'13 Going on 30 (2004)',\n",
       "  u'director': u'Gary Winick',\n",
       "  u'domestic_gross': 57231747,\n",
       "  u'mojo_slug': u'13goingon30',\n",
       "  u'opening_per_theater': 6123,\n",
       "  u'opening_weekend_take': 21054283,\n",
       "  u'production_budget': 37000000,\n",
       "  u'release_date_limited': None,\n",
       "  u'release_date_wide': u'2004-04-23',\n",
       "  u'title': u'13 Going on 30',\n",
       "  u'widest_release': 3453,\n",
       "  u'worldwide_gross': 96455697,\n",
       "  u'year': 2004}]"
      ]
     },
     "execution_count": 21,
     "metadata": {},
     "output_type": "execute_result"
    }
   ],
   "source": [
    "movies[:10]"
   ]
  },
  {
   "cell_type": "code",
   "execution_count": 22,
   "metadata": {
    "collapsed": false
   },
   "outputs": [
    {
     "data": {
      "text/plain": [
       "{u'complete': True,\n",
       " u'director': u'Gil Junger',\n",
       " u'genre': [u'Comedy', u'Romance'],\n",
       " u'metacritic_page': u'/movie/10-things-i-hate-about-you',\n",
       " u'metascore': 70,\n",
       " u'num_critic_reviews': [18, 7, 1, 26],\n",
       " u'num_user_ratings': 175,\n",
       " u'num_user_reviews': [27, 1, 1, 29],\n",
       " u'rating': u'PG-13',\n",
       " u'release_date': u'1999-03-31',\n",
       " u'runtime_minutes': 97,\n",
       " u'studio': u'Buena Vista Pictures',\n",
       " u'title': u'10 Things I Hate About You',\n",
       " u'user_score': 7.0,\n",
       " u'year': 1999}"
      ]
     },
     "execution_count": 22,
     "metadata": {},
     "output_type": "execute_result"
    }
   ],
   "source": [
    "crics[0]"
   ]
  },
  {
   "cell_type": "code",
   "execution_count": 23,
   "metadata": {
    "collapsed": false
   },
   "outputs": [
    {
     "data": {
      "text/plain": [
       "list"
      ]
     },
     "execution_count": 23,
     "metadata": {},
     "output_type": "execute_result"
    }
   ],
   "source": [
    "type(crics)"
   ]
  },
  {
   "cell_type": "code",
   "execution_count": 24,
   "metadata": {
    "collapsed": false
   },
   "outputs": [
    {
     "data": {
      "text/plain": [
       "dict"
      ]
     },
     "execution_count": 24,
     "metadata": {},
     "output_type": "execute_result"
    }
   ],
   "source": [
    "type(crics[0])"
   ]
  },
  {
   "cell_type": "code",
   "execution_count": 28,
   "metadata": {
    "collapsed": false
   },
   "outputs": [
    {
     "data": {
      "text/plain": [
       "3721"
      ]
     },
     "execution_count": 28,
     "metadata": {},
     "output_type": "execute_result"
    }
   ],
   "source": [
    "movies_df['year'].count()"
   ]
  },
  {
   "cell_type": "code",
   "execution_count": 29,
   "metadata": {
    "collapsed": false
   },
   "outputs": [
    {
     "data": {
      "text/html": [
       "<div>\n",
       "<table border=\"1\" class=\"dataframe\">\n",
       "  <thead>\n",
       "    <tr style=\"text-align: right;\">\n",
       "      <th></th>\n",
       "      <th>domestic_gross</th>\n",
       "      <th>opening_per_theater</th>\n",
       "      <th>opening_weekend_take</th>\n",
       "      <th>production_budget</th>\n",
       "      <th>widest_release</th>\n",
       "      <th>worldwide_gross</th>\n",
       "      <th>year</th>\n",
       "    </tr>\n",
       "  </thead>\n",
       "  <tbody>\n",
       "    <tr>\n",
       "      <th>count</th>\n",
       "      <td>3.653000e+03</td>\n",
       "      <td>3548.000000</td>\n",
       "      <td>3.548000e+03</td>\n",
       "      <td>1.591000e+03</td>\n",
       "      <td>3576.000000</td>\n",
       "      <td>2.821000e+03</td>\n",
       "      <td>3721.000000</td>\n",
       "    </tr>\n",
       "    <tr>\n",
       "      <th>mean</th>\n",
       "      <td>3.587710e+07</td>\n",
       "      <td>7769.070744</td>\n",
       "      <td>8.919290e+06</td>\n",
       "      <td>4.594223e+07</td>\n",
       "      <td>1359.910794</td>\n",
       "      <td>9.117943e+07</td>\n",
       "      <td>2004.740124</td>\n",
       "    </tr>\n",
       "    <tr>\n",
       "      <th>std</th>\n",
       "      <td>5.660351e+07</td>\n",
       "      <td>8251.101404</td>\n",
       "      <td>1.403204e+07</td>\n",
       "      <td>4.056849e+07</td>\n",
       "      <td>1293.817347</td>\n",
       "      <td>1.489563e+08</td>\n",
       "      <td>9.127232</td>\n",
       "    </tr>\n",
       "    <tr>\n",
       "      <th>min</th>\n",
       "      <td>7.200000e+01</td>\n",
       "      <td>72.000000</td>\n",
       "      <td>7.200000e+01</td>\n",
       "      <td>2.200000e+02</td>\n",
       "      <td>1.000000</td>\n",
       "      <td>7.200000e+01</td>\n",
       "      <td>1933.000000</td>\n",
       "    </tr>\n",
       "    <tr>\n",
       "      <th>25%</th>\n",
       "      <td>6.353250e+05</td>\n",
       "      <td>3212.000000</td>\n",
       "      <td>4.748775e+04</td>\n",
       "      <td>1.675000e+07</td>\n",
       "      <td>52.000000</td>\n",
       "      <td>5.710236e+06</td>\n",
       "      <td>2001.000000</td>\n",
       "    </tr>\n",
       "    <tr>\n",
       "      <th>50%</th>\n",
       "      <td>1.323532e+07</td>\n",
       "      <td>5520.500000</td>\n",
       "      <td>3.334686e+06</td>\n",
       "      <td>3.500000e+07</td>\n",
       "      <td>1074.500000</td>\n",
       "      <td>3.554776e+07</td>\n",
       "      <td>2007.000000</td>\n",
       "    </tr>\n",
       "    <tr>\n",
       "      <th>75%</th>\n",
       "      <td>4.966253e+07</td>\n",
       "      <td>9463.500000</td>\n",
       "      <td>1.268750e+07</td>\n",
       "      <td>6.500000e+07</td>\n",
       "      <td>2584.250000</td>\n",
       "      <td>1.166729e+08</td>\n",
       "      <td>2011.000000</td>\n",
       "    </tr>\n",
       "    <tr>\n",
       "      <th>max</th>\n",
       "      <td>7.605076e+08</td>\n",
       "      <td>204230.000000</td>\n",
       "      <td>1.741446e+08</td>\n",
       "      <td>2.150000e+08</td>\n",
       "      <td>4468.000000</td>\n",
       "      <td>2.787965e+09</td>\n",
       "      <td>2015.000000</td>\n",
       "    </tr>\n",
       "  </tbody>\n",
       "</table>\n",
       "</div>"
      ],
      "text/plain": [
       "       domestic_gross  opening_per_theater  opening_weekend_take  \\\n",
       "count    3.653000e+03          3548.000000          3.548000e+03   \n",
       "mean     3.587710e+07          7769.070744          8.919290e+06   \n",
       "std      5.660351e+07          8251.101404          1.403204e+07   \n",
       "min      7.200000e+01            72.000000          7.200000e+01   \n",
       "25%      6.353250e+05          3212.000000          4.748775e+04   \n",
       "50%      1.323532e+07          5520.500000          3.334686e+06   \n",
       "75%      4.966253e+07          9463.500000          1.268750e+07   \n",
       "max      7.605076e+08        204230.000000          1.741446e+08   \n",
       "\n",
       "       production_budget  widest_release  worldwide_gross         year  \n",
       "count       1.591000e+03     3576.000000     2.821000e+03  3721.000000  \n",
       "mean        4.594223e+07     1359.910794     9.117943e+07  2004.740124  \n",
       "std         4.056849e+07     1293.817347     1.489563e+08     9.127232  \n",
       "min         2.200000e+02        1.000000     7.200000e+01  1933.000000  \n",
       "25%         1.675000e+07       52.000000     5.710236e+06  2001.000000  \n",
       "50%         3.500000e+07     1074.500000     3.554776e+07  2007.000000  \n",
       "75%         6.500000e+07     2584.250000     1.166729e+08  2011.000000  \n",
       "max         2.150000e+08     4468.000000     2.787965e+09  2015.000000  "
      ]
     },
     "execution_count": 29,
     "metadata": {},
     "output_type": "execute_result"
    }
   ],
   "source": [
    "movies_df.describe()\n"
   ]
  },
  {
   "cell_type": "code",
   "execution_count": 30,
   "metadata": {
    "collapsed": false
   },
   "outputs": [
    {
     "name": "stdout",
     "output_type": "stream",
     "text": [
      "<class 'pandas.core.frame.DataFrame'>\n",
      "RangeIndex: 3728 entries, 0 to 3727\n",
      "Data columns (total 13 columns):\n",
      "alt_title               3728 non-null object\n",
      "director                2172 non-null object\n",
      "domestic_gross          3653 non-null float64\n",
      "mojo_slug               3728 non-null object\n",
      "opening_per_theater     3548 non-null float64\n",
      "opening_weekend_take    3548 non-null float64\n",
      "production_budget       1591 non-null float64\n",
      "release_date_limited    293 non-null object\n",
      "release_date_wide       3718 non-null object\n",
      "title                   3728 non-null object\n",
      "widest_release          3576 non-null float64\n",
      "worldwide_gross         2821 non-null float64\n",
      "year                    3721 non-null float64\n",
      "dtypes: float64(7), object(6)\n",
      "memory usage: 378.7+ KB\n"
     ]
    }
   ],
   "source": [
    "movies_df.info()"
   ]
  },
  {
   "cell_type": "code",
   "execution_count": 32,
   "metadata": {
    "collapsed": false
   },
   "outputs": [
    {
     "data": {
      "text/plain": [
       "2038    215000000.0\n",
       "348     209000000.0\n",
       "17      200000000.0\n",
       "620     200000000.0\n",
       "1435    200000000.0\n",
       "1760    200000000.0\n",
       "1761    200000000.0\n",
       "2661    200000000.0\n",
       "3278    200000000.0\n",
       "3279    200000000.0\n",
       "Name: production_budget, dtype: float64"
      ]
     },
     "execution_count": 32,
     "metadata": {},
     "output_type": "execute_result"
    }
   ],
   "source": [
    "movies_df['production_budget'].nlargest(10)"
   ]
  },
  {
   "cell_type": "markdown",
   "metadata": {},
   "source": [
    "##\n",
    "top midrector movies\n",
    "\n",
    "N = 4\n",
    "top_directors = movies_df.director.value_counts().index[:N]\n",
    "top_dir_movies = movies[movies['director'].isin(top_directors)]\n",
    "\n",
    "print '%i movies by top %i directors: %s.' % (len(top_dir_movies),\n",
    "                                              N,\n",
    "                                              ', '.join(top_directors))\n",
    "\n",
    "top_dir_movies.head()"
   ]
  },
  {
   "cell_type": "code",
   "execution_count": 43,
   "metadata": {
    "collapsed": false
   },
   "outputs": [],
   "source": [
    "N=4\n",
    "top_directors = movies_df.director.value_counts().index[:N]\n",
    "top_dir_movies = movies_df[movies_df['director'].isin(top_directors)]"
   ]
  },
  {
   "cell_type": "code",
   "execution_count": 44,
   "metadata": {
    "collapsed": false
   },
   "outputs": [
    {
     "data": {
      "text/html": [
       "<div>\n",
       "<table border=\"1\" class=\"dataframe\">\n",
       "  <thead>\n",
       "    <tr style=\"text-align: right;\">\n",
       "      <th></th>\n",
       "      <th>alt_title</th>\n",
       "      <th>director</th>\n",
       "      <th>domestic_gross</th>\n",
       "      <th>mojo_slug</th>\n",
       "      <th>opening_per_theater</th>\n",
       "      <th>opening_weekend_take</th>\n",
       "      <th>production_budget</th>\n",
       "      <th>release_date_limited</th>\n",
       "      <th>release_date_wide</th>\n",
       "      <th>title</th>\n",
       "      <th>widest_release</th>\n",
       "      <th>worldwide_gross</th>\n",
       "      <th>year</th>\n",
       "    </tr>\n",
       "  </thead>\n",
       "  <tbody>\n",
       "    <tr>\n",
       "      <th>71</th>\n",
       "      <td>8MM (1999)</td>\n",
       "      <td>Joel Schumacher</td>\n",
       "      <td>36663315.0</td>\n",
       "      <td>8mm</td>\n",
       "      <td>6013.0</td>\n",
       "      <td>14252888.0</td>\n",
       "      <td>40000000.0</td>\n",
       "      <td>None</td>\n",
       "      <td>1999-02-26</td>\n",
       "      <td>8MM</td>\n",
       "      <td>2370.0</td>\n",
       "      <td>96618699.0</td>\n",
       "      <td>1999.0</td>\n",
       "    </tr>\n",
       "    <tr>\n",
       "      <th>138</th>\n",
       "      <td>Alien (1979)</td>\n",
       "      <td>Ridley Scott</td>\n",
       "      <td>80931801.0</td>\n",
       "      <td>alien</td>\n",
       "      <td>8366.0</td>\n",
       "      <td>5312945.0</td>\n",
       "      <td>11000000.0</td>\n",
       "      <td>1979-05-25</td>\n",
       "      <td>1979-06-22</td>\n",
       "      <td>Alien</td>\n",
       "      <td>757.0</td>\n",
       "      <td>104931801.0</td>\n",
       "      <td>1979.0</td>\n",
       "    </tr>\n",
       "    <tr>\n",
       "      <th>169</th>\n",
       "      <td>American Gangster (2007)</td>\n",
       "      <td>Ridley Scott</td>\n",
       "      <td>130164645.0</td>\n",
       "      <td>americangangster</td>\n",
       "      <td>14264.0</td>\n",
       "      <td>43565115.0</td>\n",
       "      <td>100000000.0</td>\n",
       "      <td>None</td>\n",
       "      <td>2007-11-02</td>\n",
       "      <td>American Gangster</td>\n",
       "      <td>3110.0</td>\n",
       "      <td>266465037.0</td>\n",
       "      <td>2007.0</td>\n",
       "    </tr>\n",
       "    <tr>\n",
       "      <th>183</th>\n",
       "      <td>Amistad (1997)</td>\n",
       "      <td>Steven Spielberg</td>\n",
       "      <td>44229441.0</td>\n",
       "      <td>amistad</td>\n",
       "      <td>7270.0</td>\n",
       "      <td>5176006.0</td>\n",
       "      <td>36000000.0</td>\n",
       "      <td>1997-12-10</td>\n",
       "      <td>1997-12-26</td>\n",
       "      <td>Amistad</td>\n",
       "      <td>1019.0</td>\n",
       "      <td>NaN</td>\n",
       "      <td>1997.0</td>\n",
       "    </tr>\n",
       "    <tr>\n",
       "      <th>226</th>\n",
       "      <td>Anything Else (2003)</td>\n",
       "      <td>Woody Allen</td>\n",
       "      <td>3212310.0</td>\n",
       "      <td>anythingelse</td>\n",
       "      <td>1619.0</td>\n",
       "      <td>1673125.0</td>\n",
       "      <td>18000000.0</td>\n",
       "      <td>None</td>\n",
       "      <td>2003-09-19</td>\n",
       "      <td>Anything Else</td>\n",
       "      <td>1033.0</td>\n",
       "      <td>13585075.0</td>\n",
       "      <td>2003.0</td>\n",
       "    </tr>\n",
       "  </tbody>\n",
       "</table>\n",
       "</div>"
      ],
      "text/plain": [
       "                    alt_title          director  domestic_gross  \\\n",
       "71                 8MM (1999)   Joel Schumacher      36663315.0   \n",
       "138              Alien (1979)      Ridley Scott      80931801.0   \n",
       "169  American Gangster (2007)      Ridley Scott     130164645.0   \n",
       "183            Amistad (1997)  Steven Spielberg      44229441.0   \n",
       "226      Anything Else (2003)       Woody Allen       3212310.0   \n",
       "\n",
       "            mojo_slug  opening_per_theater  opening_weekend_take  \\\n",
       "71                8mm               6013.0            14252888.0   \n",
       "138             alien               8366.0             5312945.0   \n",
       "169  americangangster              14264.0            43565115.0   \n",
       "183           amistad               7270.0             5176006.0   \n",
       "226      anythingelse               1619.0             1673125.0   \n",
       "\n",
       "     production_budget release_date_limited release_date_wide  \\\n",
       "71          40000000.0                 None        1999-02-26   \n",
       "138         11000000.0           1979-05-25        1979-06-22   \n",
       "169        100000000.0                 None        2007-11-02   \n",
       "183         36000000.0           1997-12-10        1997-12-26   \n",
       "226         18000000.0                 None        2003-09-19   \n",
       "\n",
       "                 title  widest_release  worldwide_gross    year  \n",
       "71                 8MM          2370.0       96618699.0  1999.0  \n",
       "138              Alien           757.0      104931801.0  1979.0  \n",
       "169  American Gangster          3110.0      266465037.0  2007.0  \n",
       "183           Amistad           1019.0              NaN  1997.0  \n",
       "226      Anything Else          1033.0       13585075.0  2003.0  "
      ]
     },
     "execution_count": 44,
     "metadata": {},
     "output_type": "execute_result"
    }
   ],
   "source": [
    "top_dir_movies.head()"
   ]
  },
  {
   "cell_type": "code",
   "execution_count": null,
   "metadata": {
    "collapsed": true
   },
   "outputs": [],
   "source": []
  }
 ],
 "metadata": {
  "kernelspec": {
   "display_name": "Python 2",
   "language": "python",
   "name": "python2"
  },
  "language_info": {
   "codemirror_mode": {
    "name": "ipython",
    "version": 2
   },
   "file_extension": ".py",
   "mimetype": "text/x-python",
   "name": "python",
   "nbconvert_exporter": "python",
   "pygments_lexer": "ipython2",
   "version": "2.7.11"
  }
 },
 "nbformat": 4,
 "nbformat_minor": 0
}
