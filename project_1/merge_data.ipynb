{
 "cells": [
  {
   "cell_type": "code",
   "execution_count": null,
   "metadata": {
    "collapsed": true
   },
   "outputs": [],
   "source": []
  },
  {
   "cell_type": "code",
   "execution_count": null,
   "metadata": {
    "collapsed": true
   },
   "outputs": [],
   "source": [
    "import os, json\n",
    "import pandas as pd\n",
    "import numpy as np\n",
    "import seaborn as sn\n",
    "\n",
    "import matplotlib.pyplot as plt\n",
    "import numpy.linalg as nla\n",
    "\n",
    "# display graphics in the browser window\n",
    "# \"cell magics\"  %%\n",
    "# \"line magics\" % \n",
    "%matplotlib inline"
   ]
  },
  {
   "cell_type": "code",
   "execution_count": null,
   "metadata": {
    "collapsed": true
   },
   "outputs": [],
   "source": [
    "# read in the dataset\n",
    "def get_movies(aDir):\n",
    "    import os, json\n",
    "    file_contents = os.listdir(aDir)\n",
    "\n",
    "    movie_list = []\n",
    "\n",
    "    for filename in file_contents:\n",
    "        filepath = os.path.join(aDir, filename)\n",
    "\n",
    "        if not filename.endswith(\".json\"):\n",
    "            continue\n",
    "        \n",
    "        with open(filepath, 'r') as movie_file:\n",
    "            movie_data = json.load(movie_file)\n",
    "        if hasattr(movie_data, \"keys\"): # type(movie_data) == dict:\n",
    "            movie_list.append(movie_data)\n",
    "    return movie_list"
   ]
  },
  {
   "cell_type": "code",
   "execution_count": null,
   "metadata": {
    "collapsed": true
   },
   "outputs": [],
   "source": [
    "movie_list = get_movies(\"/Users/cff744/ds_course/ct16_cap1_ds4\"\n",
    "                        \"/project_1/data/metacritic/\")\n",
    "critics = pd.DataFrame(movie_list)\n",
    "critics.head()"
   ]
  },
  {
   "cell_type": "code",
   "execution_count": null,
   "metadata": {
    "collapsed": true
   },
   "outputs": [],
   "source": [
    "movie_list = get_movies(\"/Users/cff744/ds_course/ct16_cap1_ds4\"\n",
    "                        \"/project_1/data/boxofficemojo/\")\n",
    "movies = pd.DataFrame(movie_list)\n",
    "movies.head()"
   ]
  },
  {
   "cell_type": "code",
   "execution_count": null,
   "metadata": {
    "collapsed": true
   },
   "outputs": [],
   "source": [
    "# add dummy vr to flag out movies in the original box dataset\n",
    "movies.loc[:,'box_flag'] = 1"
   ]
  },
  {
   "cell_type": "code",
   "execution_count": null,
   "metadata": {
    "collapsed": true
   },
   "outputs": [],
   "source": [
    "critics['title1']=critics['title'].fillna('z')"
   ]
  },
  {
   "cell_type": "code",
   "execution_count": null,
   "metadata": {
    "collapsed": true
   },
   "outputs": [],
   "source": [
    "critics['title1'] = map(lambda x: x.lower(), critics['title1'])"
   ]
  },
  {
   "cell_type": "code",
   "execution_count": null,
   "metadata": {
    "collapsed": true
   },
   "outputs": [],
   "source": [
    "critics.loc[:,'mojo_slug']=critics['title1'].str.replace(' ', '')\n",
    "critics['mojo_slug']=critics['mojo_slug'].str.replace('.', '')\n",
    "critics['mojo_slug']=critics['mojo_slug'].str.replace(',', '')"
   ]
  },
  {
   "cell_type": "code",
   "execution_count": null,
   "metadata": {
    "collapsed": true
   },
   "outputs": [],
   "source": [
    "critics=critics.drop('title1', axis=1)"
   ]
  },
  {
   "cell_type": "code",
   "execution_count": null,
   "metadata": {
    "collapsed": true
   },
   "outputs": [],
   "source": [
    "critics['year']=critics['year'].fillna(0)"
   ]
  },
  {
   "cell_type": "code",
   "execution_count": null,
   "metadata": {
    "collapsed": true
   },
   "outputs": [],
   "source": [
    "movies['year']=movies['year'].fillna(0)"
   ]
  },
  {
   "cell_type": "code",
   "execution_count": null,
   "metadata": {
    "collapsed": true
   },
   "outputs": [],
   "source": [
    "movies['year']=movies['year'].astype(int)"
   ]
  },
  {
   "cell_type": "code",
   "execution_count": null,
   "metadata": {
    "collapsed": true
   },
   "outputs": [],
   "source": [
    "critics['key'] = critics['mojo_slug'].str.cat(critics['year'].values.astype(str))\n",
    "movies['key'] = movies['mojo_slug'].str.cat(movies['year'].values.astype(str))"
   ]
  },
  {
   "cell_type": "code",
   "execution_count": null,
   "metadata": {
    "collapsed": true
   },
   "outputs": [],
   "source": [
    "df=pd.merge(movies, critics, on=('key'), how='outer')"
   ]
  },
  {
   "cell_type": "code",
   "execution_count": null,
   "metadata": {
    "collapsed": true
   },
   "outputs": [],
   "source": []
  },
  {
   "cell_type": "code",
   "execution_count": null,
   "metadata": {
    "collapsed": true
   },
   "outputs": [],
   "source": []
  },
  {
   "cell_type": "code",
   "execution_count": null,
   "metadata": {
    "collapsed": true
   },
   "outputs": [],
   "source": []
  },
  {
   "cell_type": "code",
   "execution_count": null,
   "metadata": {
    "collapsed": true
   },
   "outputs": [],
   "source": []
  }
 ],
 "metadata": {
  "kernelspec": {
   "display_name": "Python 2",
   "language": "python",
   "name": "python2"
  },
  "language_info": {
   "codemirror_mode": {
    "name": "ipython",
    "version": 2
   },
   "file_extension": ".py",
   "mimetype": "text/x-python",
   "name": "python",
   "nbconvert_exporter": "python",
   "pygments_lexer": "ipython2",
   "version": "2.7.11"
  }
 },
 "nbformat": 4,
 "nbformat_minor": 0
}
